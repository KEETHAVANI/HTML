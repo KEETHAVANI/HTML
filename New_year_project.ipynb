{
  "nbformat": 4,
  "nbformat_minor": 0,
  "metadata": {
    "colab": {
      "name": "New year  project.ipynb",
      "provenance": [],
      "include_colab_link": true
    },
    "kernelspec": {
      "name": "python3",
      "display_name": "Python 3"
    }
  },
  "cells": [
    {
      "cell_type": "markdown",
      "metadata": {
        "id": "view-in-github",
        "colab_type": "text"
      },
      "source": [
        "<a href=\"https://colab.research.google.com/github/KEETHAVANI/HTML/blob/main/New_year_project.ipynb\" target=\"_parent\"><img src=\"https://colab.research.google.com/assets/colab-badge.svg\" alt=\"Open In Colab\"/></a>"
      ]
    },
    {
      "cell_type": "code",
      "metadata": {
        "id": "D-HJkfeQHEkb"
      },
      "source": [
        "import pygame\r\n",
        "from time import sleep\r\n",
        "pygame.init()\r\n",
        "window = pygame.display.set_mode((0,0),pygame.FULLSCREEN)\r\n",
        "#sleep(3)\r\n",
        "pygame.mixer.init()\r\n",
        "pygame.mixer.music.load('newyear song.mp3')\r\n",
        "pygame.mixer.music.play()\r\n",
        "sleep(17)\r\n",
        "pygame.mixer.music.load('fireworks.mp3')\r\n",
        "pygame.mixer.music.play()\r\n",
        "image = pygame.image.load('newyearfinal1.png')\r\n",
        "window.blit(image,(0,0))\r\n",
        "pygame.display.update()\r\n",
        "sleep(10)"
      ],
      "execution_count": null,
      "outputs": []
    }
  ]
}